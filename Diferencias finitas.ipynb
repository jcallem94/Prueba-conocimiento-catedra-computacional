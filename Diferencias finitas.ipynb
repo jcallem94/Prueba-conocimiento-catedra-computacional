{
 "cells": [
  {
   "cell_type": "code",
   "execution_count": 1,
   "metadata": {},
   "outputs": [
    {
     "name": "stdout",
     "output_type": "stream",
     "text": [
      "Populating the interactive namespace from numpy and matplotlib\n"
     ]
    }
   ],
   "source": [
    "import numpy as np\n",
    "%pylab inline\n",
    "import matplotlib.pyplot as plt\n",
    "\n",
    "# JSAnimation import available at https://github.com/jakevdp/JSAnimation\n",
    "from JSAnimation import IPython_display\n",
    "from matplotlib import animation"
   ]
  },
  {
   "cell_type": "markdown",
   "metadata": {},
   "source": [
    "# URL Video YouTube: https://youtu.be/t5oU-BDVQqc"
   ]
  },
  {
   "cell_type": "markdown",
   "metadata": {},
   "source": [
    "# Método de las diferencias finitas"
   ]
  },
  {
   "cell_type": "markdown",
   "metadata": {},
   "source": [
    "El método de diferencias finitas consiste en convertir el problema de solución de ecuaciones diferenciales a un problema algebraico. Este método consiste en reemplazar las derivadas de las ecuaciones diferenciales usando cocientes diferenciales. Para el desarrollo de este método es necesario dividir el espacio o el tiempo en pequeñas regiones. Para definir este método partimos de dividir el espacio en pequeñas regiones de ancho $h$, por lo que definiremos $x_{i+1} = x_{i} +h$ y $x_{i-1} = x_{i} -h$, y haciendo uso de la expansión de Taylor tenemos:\n",
    "\n",
    "$$f(x+h) = f(x) + f'(x) h + \\frac{1}{2} f''(x) h^{2}+ \\mathcal{O}(h^{3})$$.\n",
    "\n",
    "Reescribiendo esto bajo la discretización del espacio, obtenemos \n",
    "\n",
    "$$f(x_{i+1}) = f(x_{i}) + f'(x_{i}) h + \\frac{1}{2} f''(x_{i}) h^{2}+ \\mathcal{O}(h^{3})$$.\n",
    "\n",
    "Si tomamos la aproximación de primer orden en $h$, y despejando $f'(x_{i})$, obtenemos que la primera derivada es:\n",
    "\n",
    "$$f'(x_{i}) = \\frac{f(x_{i+1})-f(x_{i})}{h} - \\mathcal{O}(h)$$. \n",
    "\n",
    "Esta formula es conocida como diferencias finitas de orden 1 para la primera derivada. Si queremos encontrar la de segundo orden, tendremos que partir de \n",
    "\n",
    "$$f(x_{i+2}) = f(x_{i}) + (2h) f'(x_{i}) + \\frac{1}{2} (2h)^{2} f''(x_{i})$$,\n",
    "\n",
    "de donde es fácil obtener para aproximaciones de primer orden que \n",
    "\n",
    "$$f'(x_{i}) = \\frac{-f(x_{i+1})+4f(x_{i+1})-3f(x_{i})}{2h} + \\mathcal{O}(h^{2})$$. \n",
    "\n",
    "Igualmente para la aproximación de segundo orden, se obtiene que la segunda derivada tiene la forma:\n",
    "\n",
    "$$f''(x_{i}) = \\frac{f(x_{i+2}) -2f(x_{i+1}) + f(x_{i})}{h^2}$$.\n",
    "\n",
    "El error entre la solución numérica y la solución exacta está determinado por el error que se comete al pasar de un operador diferencial a un operador de diferencia. Este error se llama error de discretización o error de truncamiento. El término error de truncamiento refleja el hecho de que una parte finita de una serie de Taylor se usa en la aproximación"
   ]
  },
  {
   "cell_type": "markdown",
   "metadata": {},
   "source": [
    "# Resolver ecuación con el método de diferencias finitas"
   ]
  },
  {
   "cell_type": "markdown",
   "metadata": {},
   "source": [
    "Es posible extender el método para solucionar ecuaciones diferenciales de primer grado, a segundo grado, es decir sistemas que involucren segundas derivadas. Supongamos que el sistema tiene una ecuación de la siguiente forma\n",
    "\n",
    "$$ \\frac{d^2y}{dt^2}+ g(t,y)\\frac{dy}{dt}=f(t,y),\\ \\ \\ a\\leq t\\leq b, \\ \\ \\ \\ y(a) = \\alpha\\ \\ \\mbox{and}\\ y'(a) = \\beta$$\n",
    "\n",
    "Para este sistema deberemos de tener condiciones iniciales para $y$ y su derivada $y'$. Para resolver esta ecuación vamos a definir una variable $w(t) = y'(t)$, \n",
    "\n",
    "\\begin{align}\n",
    "\\frac{dw}{dt}=&f(t,y)-g(t,y)w \\\\  \n",
    "\\frac{dy}{dt}=&w(t)\\, ,\\ \\ \\ a\\leq t\\leq b\\,, \\ \\ \\ \\ y(a) = \\alpha\\ \\ \\mbox{and}\\ w(a) = \\beta\n",
    "\\end{align}\n",
    "\n",
    "Este problema tiene la forma para solución con el metodo de primer orden, y la solución puede ser calculada como:\n",
    "\n",
    "\\begin{align}\n",
    "w_{i+1}=& w_{i} + [f(t_i,y_i)-g(t_i,y_i)w_i]\\Delta t \\\\  \n",
    "y_{i+1}=&y_i + w_i \\Delta t\\, ,\\ \\ \\ a\\leq t\\leq b\\,, \\ \\ \\ \\ y(a) = \\alpha\\ \\ \\mbox{and}\\ w(a) = \\beta\n",
    "\\end{align}"
   ]
  },
  {
   "cell_type": "markdown",
   "metadata": {},
   "source": [
    "# Ejemplo"
   ]
  },
  {
   "cell_type": "markdown",
   "metadata": {},
   "source": [
    "## Tres leyes de movimiento de Newton\n",
    "Las ecuaciones de movimiento pueden verse como un sistema de ecuaciones de la forma\n",
    "\\begin{align}\n",
    "\\frac{\\boldsymbol{p}}{m}=&\\frac{\\operatorname{d}\\boldsymbol{x}}{\\operatorname{d}t}\\\\\n",
    "\\boldsymbol{p}=& \\gamma m \\boldsymbol{v}\\\\\n",
    "\\boldsymbol{F}=&\\frac{\\operatorname{d}\\boldsymbol{p}}{\\operatorname{d} t} \n",
    "\\end{align}\n",
    "\n",
    "Como ejemplo supondremos que se lanza un objeto de $0.5$ kg desde la parte superior de un edificio de $50$ m con una velocidad horizontal de $5 $m / s. Estudiar la evolución del movimiento.\n",
    "* Despresiando la fricción del aire"
   ]
  },
  {
   "cell_type": "code",
   "execution_count": 2,
   "metadata": {},
   "outputs": [],
   "source": [
    "m=.5\n",
    "g=9.8\n",
    "# Condiciones iniciales\n",
    "x=np.array([0,50,0])\n",
    "v=np.array([5,0,0])\n",
    "p=m*v\n",
    "deltat=0.01\n",
    "# Analisis de los primeros tres segundos\n",
    "xi = []\n",
    "pi = []\n",
    "\n",
    "for t in np.arange( 0,3,deltat):\n",
    "    Fg=np.array([0,-m*g,0])\n",
    "    p=p+Fg*deltat\n",
    "    x=x+(p/m)*deltat\n",
    "    xi.append(x)\n",
    "    pi.append(p)\n",
    "xi = np.array(xi)\n",
    "pi = np.array(pi)"
   ]
  },
  {
   "cell_type": "code",
   "execution_count": 3,
   "metadata": {},
   "outputs": [
    {
     "data": {
      "text/plain": [
       "Text(0, 0.5, '$y$ [m]')"
      ]
     },
     "execution_count": 3,
     "metadata": {},
     "output_type": "execute_result"
    },
    {
     "data": {
      "image/png": "[encoded data removed]",
      "text/plain": [
       "<Figure size 432x288 with 1 Axes>"
      ]
     },
     "metadata": {
      "needs_background": "light"
     },
     "output_type": "display_data"
    }
   ],
   "source": [
    "plt.plot(xi[:,0],xi[:,1])\n",
    "plt.xlabel('$x$ [m]',size=15)\n",
    "plt.ylabel('$y$ [m]',size=15)"
   ]
  },
  {
   "cell_type": "code",
   "execution_count": null,
   "metadata": {},
   "outputs": [],
   "source": []
  }
 ],
 "metadata": {
  "kernelspec": {
   "display_name": "Python 3",
   "language": "python",
   "name": "python3"
  },
  "language_info": {
   "codemirror_mode": {
    "name": "ipython",
    "version": 3
   },
   "file_extension": ".py",
   "mimetype": "text/x-python",
   "name": "python",
   "nbconvert_exporter": "python",
   "pygments_lexer": "ipython3",
   "version": "3.6.9"
  }
 },
 "nbformat": 4,
 "nbformat_minor": 4
}
