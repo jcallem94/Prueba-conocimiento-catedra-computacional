{
 "cells": [
  {
   "cell_type": "code",
   "execution_count": 1,
   "metadata": {},
   "outputs": [
    {
     "name": "stdout",
     "output_type": "stream",
     "text": [
      "Populating the interactive namespace from numpy and matplotlib\n"
     ]
    }
   ],
   "source": [
    "import numpy as np\n",
    "%pylab inline\n",
    "import matplotlib.pyplot as plt\n",
    "from matplotlib import animation"
   ]
  },
  {
   "cell_type": "markdown",
   "metadata": {},
   "source": [
    "# URL Vídeo YouTube: https://youtu.be/92pl50wHIQM"
   ]
  },
  {
   "cell_type": "markdown",
   "metadata": {},
   "source": [
    "Cursos prerrequisito: Algebra líneal y cálculo diferencial.\n",
    "\n",
    "Los conocimientos necesarios para el desarrollo del método son:\n",
    "\n",
    "Conocer los diferentes métodos de interpolación, principalmente el método del Lagrange. Apartir de la definición de los polinomios de Lagrange es posible desarrollar el metodo de los mínimos cuadrados lineal."
   ]
  },
  {
   "cell_type": "markdown",
   "metadata": {},
   "source": [
    "# Mínimos cuadrados lineales"
   ]
  },
  {
   "cell_type": "markdown",
   "metadata": {},
   "source": [
    "Aproximar un conjunto de datos a un polinomio lineal de Langrange sería solo para usar\n",
    "\n",
    "$$\n",
    "y_i= f(x_i) = a_1x_i + a_0\\,.\n",
    "$$\n",
    "\n",
    "Sin embargo, con datos experimentales, el problema es que los valores $y_i$ no son precisos, entonces se propone encontrar la mejor aproximación. Para obtener la mejor aproximación lineal, necesitamos encontrar para todos los puntos el valor de $a_0$ y $a_1$ que minimiza el error\n",
    "\n",
    "$$\n",
    "E = E(a_0,a_1) = \\sum_{i=1}^{m}[y_i - (a_1 x_i + a_0)]^2 \n",
    "$$\n",
    "\n",
    "donde el cuadrado es más adecuado para el procedimiento de minimización, ya que evita las fluctuaciones por cambios de signo.\n",
    "\n",
    "Para minimizar la función de 2 variables, $E(a_0, a_1)$ con respecto a $a_0$ y $a_1$, es necesario establecer sus derivadas parciales en cero y simultáneamente resolver a las ecuaciones resultantes. Para establecer las ecuaciones de minimización, es necesario tomar las derivadas parciales con respecto a $ a_0 $ y $ a_1 $ e igualarlas a cero\n",
    "\n",
    "$$\n",
    "\\frac{\\partial E}{\\partial a_0} = 0\\,, \\hspace{1cm} \n",
    "\\frac{\\partial E}{\\partial a_1} = 0\\,.\n",
    "$$\n",
    "Después,\n",
    "\n",
    "\\begin{align}\n",
    "&0= 2\\sum_{i=1}^{m}(y_i -a_1x_i-a_0)(-1)\\,, && \n",
    "&0 =& 2\\sum_{i=1}^{m}(y_i -a_1x_i-a_0)(-x_i) \\\\\n",
    "&a_0 m + a_1\\sum_{i=1}^{m}x_i = \\sum_{i=1}^{m} y_i\\,,&& &a_0\\sum_{i=1}^{m}x_i  + a_1\\sum_{i=1}^{m}x_i^2 = \\sum_{i=1}^{m} x_iy_i \n",
    "\\end{align}\n",
    "\n",
    "\\begin{align}\n",
    "a_0= &\\frac{ \\sum_{i=1}^{m} y_i-a_1\\sum_{i=1}^{m}x_i }{m} \n",
    "\\end{align}"
   ]
  },
  {
   "cell_type": "markdown",
   "metadata": {},
   "source": [
    "Donde se puede obtener que los coeficientes $a_0$ y $a_1$ son:\n",
    "\n",
    "$$\n",
    "a_0 = \\frac{\\sum_{i=1}^{m} x_i^2\\sum_{i=1}^{m}y_i - \\sum_{i=1}^{m} x_iy_i \\sum_{i=1}^{m} x_i }\n",
    "{m\\sum_{i=1}^{m} x_i^2 - \\left(\\sum_{i=1}^{m} x_i\\right)^2}\\,, \\hspace{1.5cm}\n",
    "a_1 = \\frac{m\\sum_{i=1}^{m} x_iy_i - \\sum_{i=1}^{m} x_i \\sum_{i=1}^{m} y_i }\n",
    "{m\\sum_{i=1}^{m} x_i^2 - \\left(\\sum_{i=1}^{m} x_i\\right)^2} \n",
    "$$\n",
    "\n",
    "Ahora, usando la definición de error, uno puede encontrar el error asociado a la aproximación hecha, ya que los coeficientes $a_0$ y $a_1$ ya se conocen."
   ]
  },
  {
   "cell_type": "markdown",
   "metadata": {},
   "source": [
    "# Ejemplo"
   ]
  },
  {
   "cell_type": "markdown",
   "metadata": {},
   "source": [
    "Un cuerpo se mueve bajo la influencia de una fuerza externa, la variación de la posición medida para diferentes\n",
    "los tiempos se compilan en la tabla 1\n",
    "\n",
    "| t(s) | x(m) | v(m/s)         \n",
    "| :------: |:-------------: | :-------:|\n",
    "|0| 2.76 | 33.10\n",
    "| 1.11| 29.66 | 21.33\n",
    "| 2.22|46.83 | 16.57\n",
    "|3.33 | 44.08 |-5.04\n",
    "| 4.44| 37.26| -11.74\n",
    "| 5.55| 12.03| -27.32| \n"
   ]
  },
  {
   "cell_type": "code",
   "execution_count": 2,
   "metadata": {},
   "outputs": [],
   "source": [
    "# Encontrando los parámetros de ajuste \n",
    "def Linear_least_square( x,y ):\n",
    "    \n",
    "    #encontrar los coeficientes\n",
    "    length = len(x)\n",
    "    square_x = np.sum([x[i]**2 for i in range(length)])\n",
    "    sum_xy = np.sum([x[i]*y[i] for i in range(length)])\n",
    "    sum_x = np.sum(x)\n",
    "    sum_y = np.sum(y)\n",
    "    a0 = ( square_x*sum_y - sum_xy*sum_x ) / ( length*square_x  - sum_x**2 )\n",
    "    a1 = ( length*sum_xy - sum_x*sum_y ) / ( length*square_x  - sum_x**2 )\n",
    "    \n",
    "    return np.array([a0,a1])\n",
    "\n",
    "#Función lineal de ajuste para los datos \n",
    "def Line(a0,a1,x):\n",
    "    return a0+a1*x"
   ]
  },
  {
   "cell_type": "code",
   "execution_count": 3,
   "metadata": {},
   "outputs": [
    {
     "data": {
      "image/png": "[encoded data removed]",
      "text/plain": [
       "<Figure size 576x360 with 1 Axes>"
      ]
     },
     "metadata": {
      "needs_background": "light"
     },
     "output_type": "display_data"
    }
   ],
   "source": [
    "#========================================================\n",
    "# Ajustando los datos a una función polinomial de primer orden\n",
    "#========================================================\n",
    "#Configurando imagen\n",
    "plt.figure( figsize = (8,5) )\n",
    "\n",
    "#Tiempo\n",
    "t = np.array([ 0.,  1.11,  2.22,  3.33,  4.44, 5.55])\n",
    "\n",
    "#Velocidad medida en el tiempo t[i]\n",
    "v = np.array([33.10, 21.33, 16.57, -5.04, -11.74, -27.32])\n",
    "\n",
    "#Haciendo el ajuste de los datos\n",
    "a0, a1 = Linear_least_square( t,v )\n",
    "\n",
    "#Encontrando el error asociado \n",
    "E = np.sum([ ( v[i] - Line(a0,a1,t[i]) )**2  for i in range(len(t))])\n",
    "\n",
    "#Graficando la solución\n",
    "plt.plot( t, Line(a0,a1,t), \".-\", lw = 3.,color = \"green\",label=\"Ajuste lineal\" )\n",
    "plt.plot( t, v, \".\",color = \"blue\", label = \"Conjunto de datos\" )\n",
    "for i in range(len(t)):\n",
    "    plt.plot(np.array([t[i],t[i]]), np.array([v[i],Line(a0,a1,t[i])]),\"c-\")\n",
    "    \n",
    "#Formato de la figura\n",
    "plt.xlabel( \"$t(s)$\", fontsize = 18 )\n",
    "plt.ylabel( \"$v(m/s)$\", fontsize = 18 )\n",
    "plt.xlim( (t[0], t[-1]) )\n",
    "plt.ylim( (v[-1], v[0]) )\n",
    "plt.title(\"Ajuste lineal con erro de %f\"%E)\n",
    "plt.legend()\n",
    "plt.grid(1)"
   ]
  },
  {
   "cell_type": "markdown",
   "metadata": {},
   "source": [
    "# Apendice"
   ]
  },
  {
   "cell_type": "markdown",
   "metadata": {},
   "source": [
    "Remplazando en la segunda ecuación, se tiene\n",
    "\\begin{align}\n",
    " \\left( \\frac{ \\sum_{i=1}^{m} y_i-a_1\\sum_{i=1}^{m}x_i }{m} \\right)\\sum_{i=1}^{m}x_i  + a_1\\sum_{i=1}^{m}x_i^2 = \\sum_{i=1}^{m} x_iy_i \n",
    "\\end{align}\n",
    "\\begin{align}\n",
    "   \\frac{1}{m}\\sum_{i=1}^{m} y_i \\sum_{i=1}^{m}x_i -a_1\\frac{1}{m} \\sum_{i=1}^{m}x_i \\sum_{i=1}^{m}x_i   + a_1\\sum_{i=1}^{m}x_i^2 = \\sum_{i=1}^{m} x_iy_i \n",
    "\\end{align}\n",
    "\\begin{align}\n",
    "   a_1\\left[ \\sum_{i=1}^{m}x_i^2 -\\frac{1}{m}\\left(   \\sum_{i=1}^{m}x_i \\right)^2  \\right]   = \\sum_{i=1}^{m} x_iy_i - \\frac{1}{m}\\sum_{i=1}^{m} y_i \\sum_{i=1}^{m}x_i\n",
    "\\end{align}\n",
    "\\begin{align}\n",
    "   a_1\\left[ m\\sum_{i=1}^{m}x_i^2 -\\left(   \\sum_{i=1}^{m}x_i \\right)^2  \\right]   = m\\sum_{i=1}^{m} x_iy_i -\\sum_{i=1}^{m} y_i \\sum_{i=1}^{m}x_i\n",
    "\\end{align}\n",
    "\n",
    "Por lo tanto\n",
    "\\begin{align}\n",
    "a_1 = \\frac{m\\sum_{i=1}^{m} x_iy_i - \\sum_{i=1}^{m} x_i \\sum_{i=1}^{m} y_i }\n",
    "{m\\sum_{i=1}^{m} x_i^2 - \\left(\\sum_{i=1}^{m} x_i\\right)^2} \n",
    "\\end{align}\n",
    "\n",
    "Reemplazando en $a_0$\n",
    "\\begin{align}\n",
    "ma_0= &\\sum_{i=1}^{m} y_i-a_1\\sum_{i=1}^{m}x_i \\\\\n",
    " = &\\sum_{i=1}^{m} y_i-\\left[\\frac{m\\sum_{i=1}^{m} x_iy_i - \\sum_{i=1}^{m} x_i \\sum_{i=1}^{m} y_i }\n",
    "{m\\sum_{i=1}^{m} x_i^2 - \\left(\\sum_{i=1}^{m} x_i\\right)^2}  \\right]\\sum_{i=1}^{m}x_i \\\\\n",
    "= &\\sum_{i=1}^{m} y_i-\\frac{m\\sum_{i=1}^{m}x_i\\sum_{i=1}^{m} x_iy_i - \\left( \\sum_{i=1}^{m} x_i\\right)^2 \\sum_{i=1}^{m} y_i }\n",
    "{m\\sum_{i=1}^{m} x_i^2 - \\left(\\sum_{i=1}^{m} x_i\\right)^2}   \\\\\n",
    "= &\\frac{m\\sum_{i=1}^{m} x_i^2\\sum_{i=1}^{m} y_i-m\\sum_{i=1}^{m}x_i\\sum_{i=1}^{m} x_iy_i  }\n",
    "{m\\sum_{i=1}^{m} x_i^2 - \\left(\\sum_{i=1}^{m} x_i\\right)^2}   \\\\\n",
    "\\end{align}"
   ]
  },
  {
   "cell_type": "code",
   "execution_count": null,
   "metadata": {},
   "outputs": [],
   "source": []
  }
 ],
 "metadata": {
  "kernelspec": {
   "display_name": "Python 3",
   "language": "python",
   "name": "python3"
  },
  "language_info": {
   "codemirror_mode": {
    "name": "ipython",
    "version": 3
   },
   "file_extension": ".py",
   "mimetype": "text/x-python",
   "name": "python",
   "nbconvert_exporter": "python",
   "pygments_lexer": "ipython3",
   "version": "3.6.9"
  }
 },
 "nbformat": 4,
 "nbformat_minor": 4
}
